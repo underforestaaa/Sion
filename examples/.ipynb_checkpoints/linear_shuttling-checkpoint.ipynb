{
 "cells": [
  {
   "cell_type": "markdown",
   "id": "6a59d2b8",
   "metadata": {},
   "source": [
    "# Content \n",
    "\n",
    "This notebook contains an example of voltage optimization for ion shuttling and MD simulation of this shuttling. The route of the shuttling is optimized according to the principles, listed in \n",
    "https://doi.org/10.48550/arXiv.quant-ph/0702175.\n",
    "\n",
    "In general, the similar approach can be applied to any simulation of surface trap with time-varying voltages."
   ]
  },
  {
   "cell_type": "code",
   "execution_count": 1,
   "id": "e717fd78",
   "metadata": {},
   "outputs": [
    {
     "name": "stdout",
     "output_type": "stream",
     "text": [
      "Populating the interactive namespace from numpy and matplotlib\n"
     ]
    }
   ],
   "source": [
    "import matplotlib.pyplot as plt, numpy as np, scipy.constants as ct\n",
    "from __future__ import division\n",
    "from electrode import (System, PolygonPixelElectrode, euler_matrix,\n",
    "    PointPixelElectrode, PotentialObjective,\n",
    "    PatternRangeConstraint, shaped)\n",
    "import matplotlib as mpl\n",
    "import warnings\n",
    "import scipy\n",
    "import sion as sn\n",
    "import sys\n",
    "\n",
    "\n",
    "#puts python plots inline with the code\n",
    "%pylab inline"
   ]
  },
  {
   "cell_type": "markdown",
   "id": "ded668a7",
   "metadata": {},
   "source": [
    "# Trap definition"
   ]
  },
  {
   "cell_type": "code",
   "execution_count": 2,
   "id": "ec48ffa5",
   "metadata": {},
   "outputs": [
    {
     "name": "stdout",
     "output_type": "stream",
     "text": [
      "[-5.         19.99998363 37.34138638]\n",
      "[0.0, 11.788797611058593, -14.999999998790523, 15.0, 11.78884952763302, -14.999999998798899, 14.99999999999881, -1.6118038289362173]\n",
      "secular frequencies: (4.004, 9.034, 11.93) MHz\n",
      "in directions\n",
      "a: [9.99996856e-01 1.55136029e-07 2.50744738e-03] \n",
      "b: [-1.48333463e-07  1.00000000e+00 -2.71313076e-06] \n",
      "c: [-2.50744738e-03  2.71275030e-06  9.99996856e-01]\n"
     ]
    },
    {
     "data": {
      "image/png": "[encoded data removed]",
      "text/plain": [
       "<Figure size 1440x1440 with 2 Axes>"
      ]
     },
     "metadata": {
      "needs_background": "light"
     },
     "output_type": "display_data"
    }
   ],
   "source": [
    "# define trap with large anharmonicity \n",
    "L = 1e-6 # length scale\n",
    "Vrf = 120. # RF peak voltage in V\n",
    "mass = 40*ct.atomic_mass # ion mass\n",
    "Z = 1*ct.elementary_charge # ion charge\n",
    "Omega = 2*np.pi*100e6 # RF frequency in rad/s\n",
    "Urf = Vrf * np.sqrt(Z / mass) / (2 * L * Omega)\n",
    "scale = Z / ((L * Omega) ** 2 * mass)\n",
    "\n",
    "\n",
    "# parameters of trap\n",
    "DCtop = [[760, 300],[1000-240, 200],[760, 300]  ]  # Array of lengths and widths of Top electrodes\n",
    "DCbottom = [[760, 300],[1000-240, 200],[760, 300]  ]  # Array of lengths and widths of Bottom electrodes\n",
    "cwidth = 40# Width of central dc electrode\n",
    "clength = 2000 # length of central dc electrode\n",
    "boardwidth = 0  # width of gaps between electrodes\n",
    "rftop = 50  # width of top rf electrode, not including width of central electrode\n",
    "rflength = 2000  # length of rf electrodes\n",
    "rfbottom = 50  # width of bottom rf electrode\n",
    "patternTop = 1  # number of groups of Top dc electrodes, defined in DCtop. if None then = 1\n",
    "patternBot = 1  # same for bottom dcs\n",
    "getCoordinate = None  # If not None, writes a file with coordinates of vertexes of electrodes\n",
    "gapped = 0  # gaps between central DC electrode and RF lines\n",
    "cheight = 1000  # height of the grounded cover electrode plane\n",
    "cmax = 0  # order of the expansion of cover potential. if 0 - coder not considered, if 5 - considered with optimal precision\n",
    "elec, Numb, s = sn.FiveWireTrap(Urf, DCtop ,DCbottom, cwidth, clength, boardwidth, rftop, rflength, rfbottom, patternTop, patternBot, getCoordinate, gapped, cheight, cmax,1)\n",
    "\n",
    "x0 = np.array(s.minimum((0., 2, 3), axis=(0, 1, 2), coord=np.identity(3), method=\"Newton-CG\"))\n",
    "x0 = x0 - np.array([5, 0, 0])\n",
    "print(x0)\n",
    "\n",
    "s1 = System([e for e in s if not e.rf])\n",
    "# Give the constraints for system.shims\n",
    "derivs = \"xx x y z \".split()\n",
    "u_cal = s1.shims((x0 , None, deriv) for deriv in derivs)\n",
    "# Define variables for confinement in x-direction (uxx) and shim voltage sets (ux,uy,uz)\n",
    "uxx = 1*np.array(u_cal[0])\n",
    "ux = 1*np.array(u_cal[1])\n",
    "uy = 1*np.array(u_cal[2])\n",
    "uz = 1*np.array(u_cal[3])\n",
    "\n",
    "## # Define the voltage set for confinement in x-direction\n",
    "u_set = [0]\n",
    "for i in range(Numb):\n",
    "    u_set.append(uxx[i])\n",
    "u_set = 15*np.array(u_set)/np.max(np.abs(u_set))\n",
    "print(list(u_set))\n",
    "\n",
    "x0 = x0 - np.array([0, 0, 10])\n",
    "\n",
    "with s.with_voltages(dcs = u_set, rfs = None):\n",
    "    x0 = np.array(s.minimum( x0, axis=(0, 1, 2), coord=np.identity(3), method=\"Newton-CG\"))\n",
    "    curv_z, mod_dir=s.modes(x0 ,sorted=False)\n",
    "    omega_sec = np.sqrt(Z*curv_z/mass)/(L*2*np.pi) * 1e-6\n",
    "    print(\"secular frequencies: (%.4g, %.4g, %.4g) MHz\" % (omega_sec[0],omega_sec[1],omega_sec[2]))\n",
    "    print(\"in directions\\na:\", mod_dir[0],\"\\nb:\", mod_dir[1],\"\\nc:\", mod_dir[2] )\n",
    "    #print(sn.anharmonics(sist, [x1], 0, L))"
   ]
  },
  {
   "cell_type": "markdown",
   "id": "0f3456d1",
   "metadata": {},
   "source": [
    "# Shuttling process\n",
    "\n",
    "We will start from the position -5 mkm, and shuttle ion by 10 mkm in axial direction. In general it is beneficial to separate the full shuttling distance into steps with smaller shuttling distance. *Sion* optimizes voltage sequence on DC electrodes to perform shuttling according to the tanh route with the conversion of the axial secular frequency to minimize heating. \n",
    "\n",
    "The following block performs voltage optimization and mapping of voltage sequence to the analytic functions, suitable for optimization.\n",
    "\n",
    "## Expected and resulting x(t) dependency"
   ]
  },
  {
   "cell_type": "code",
   "execution_count": null,
   "id": "fb3bb2b0",
   "metadata": {},
   "outputs": [],
   "source": [
    "d = 10\n",
    "T = 1e-2\n",
    "N = 4\n",
    "vmin = -15\n",
    "vmax = 15\n",
    "res = 50\n",
    "L = 1e-6\n",
    "\n",
    "voltage_seq = sn.linear_shuttling_voltage(s, x0, d, T, N, u_set, vmin, vmax, res, L)\n",
    "\n",
    "# we wish to obtain the following function of x(t)\n",
    "def q_tan(t, d, T, N):\n",
    "    return d/2*(np.tanh(N*(2*t-T)/T)/np.tanh(N) + 1)\n",
    "\n",
    "# let's calculate real positions of potential minimum at each time step \n",
    "xex = []\n",
    "xx = []\n",
    "omegas = []\n",
    "voltage_seq = voltage_seq.T\n",
    "for dt in range(res+1):\n",
    "    t = dt*T/res\n",
    "    x = x0 + np.array([q_tan(t, d, T, N), 0, 0])\n",
    "    xex.append(x[0])\n",
    "    u_set = [0]\n",
    "    u_set.extend(voltage_seq[dt])\n",
    "    with s.with_voltages(dcs = u_set, rfs = None):\n",
    "        x1 = s.minimum(np.array(x), axis=(0, 1, 2), coord=np.identity(3), method=\"Newton-CG\")\n",
    "        xx.append(x1[0])\n",
    "        curv_z, mod_dir=s.modes(x,sorted=False)\n",
    "        omega_sec = np.sqrt(Z*curv_z/mass)/(L*2*np.pi) * 1e-6\n",
    "        omegas.append(omega_sec[0])\n",
    "        \n",
    "voltage_seq = voltage_seq.T\n",
    "\n",
    "fig = plt.figure(figsize = [10,5])\n",
    "plt.plot(np.arange(res+1)*T/res,xex,linewidth = 7, label = 'Expected route')\n",
    "plt.plot(np.arange(res+1)*T/res, xx,linewidth = 3, label = 'Real route')\n",
    "\n",
    "plt.xlabel('t, s')\n",
    "plt.ylabel('x, mkm')\n",
    "plt.legend()\n",
    "\n",
    "plt.show()"
   ]
  },
  {
   "cell_type": "markdown",
   "id": "c12634ce",
   "metadata": {},
   "source": [
    "## Axial secular frequency conserving"
   ]
  },
  {
   "cell_type": "code",
   "execution_count": null,
   "id": "b5e161b1",
   "metadata": {},
   "outputs": [],
   "source": [
    "fig = plt.figure(figsize = [10,5])\n",
    "plt.plot(np.arange(res+1)*T/res, omegas)\n",
    "\n",
    "plt.xlabel('t, s')\n",
    "plt.ylabel('$\\omega_{x}$, MHz')\n",
    "\n",
    "plt.show()\n"
   ]
  },
  {
   "cell_type": "markdown",
   "id": "6ff7435d",
   "metadata": {},
   "source": [
    "## Resulting voltage sequence and it's approximation"
   ]
  },
  {
   "cell_type": "code",
   "execution_count": null,
   "id": "76cc11ca",
   "metadata": {},
   "outputs": [],
   "source": [
    "# real voltage sequences\n",
    "fig = plt.figure(figsize = [10,5])\n",
    "for i,seq in enumerate(voltage_seq):\n",
    "    st = str(i)\n",
    "    plt.plot(np.arange(res+1)*T/res, seq, label = st+'th electrode')\n",
    "\n",
    "plt.xlabel('Time step')\n",
    "plt.ylabel('Voltage, V')\n",
    "\n",
    "plt.legend()\n",
    "plt.show()\n",
    "\n",
    "# finding analytic functions\n",
    "funcs = approx_shuttling(voltage_seq, T, res)\n",
    "for i, fun in enumerate(funcs):\n",
    "    print(i, 'electrode voltage: V(t) =', fun)\n"
   ]
  },
  {
   "cell_type": "markdown",
   "id": "9c2292bd",
   "metadata": {},
   "source": [
    "## Check approximation accuracy"
   ]
  },
  {
   "cell_type": "code",
   "execution_count": null,
   "id": "3b1375e1",
   "metadata": {},
   "outputs": [],
   "source": []
  }
 ],
 "metadata": {
  "kernelspec": {
   "display_name": "Python 3",
   "language": "python",
   "name": "python3"
  },
  "language_info": {
   "codemirror_mode": {
    "name": "ipython",
    "version": 3
   },
   "file_extension": ".py",
   "mimetype": "text/x-python",
   "name": "python",
   "nbconvert_exporter": "python",
   "pygments_lexer": "ipython3",
   "version": "3.8.10"
  }
 },
 "nbformat": 4,
 "nbformat_minor": 5
}
